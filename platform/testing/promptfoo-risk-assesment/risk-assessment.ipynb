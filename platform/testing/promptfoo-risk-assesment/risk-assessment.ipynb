{
 "cells": [
  {
   "cell_type": "markdown",
   "id": "6b877dde",
   "metadata": {},
   "source": [
    "# Promptfoo Red Teaming Setup and Execution\n",
    "\n",
    "This notebook provides step-by-step instructions to install, configure, and run a Promptfoo red team scan against your target application or model."
   ]
  },
  {
   "cell_type": "markdown",
   "id": "5ee103de",
   "metadata": {},
   "source": [
    "## Step 1: Install Promptfoo\n",
    "\n",
    "Open a terminal and run the following command to install Promptfoo globally via npm:"
   ]
  },
  {
   "cell_type": "code",
   "execution_count": null,
   "id": "e6774821",
   "metadata": {},
   "outputs": [],
   "source": [
    "!npm install -g promptfoo"
   ]
  },
  {
   "cell_type": "markdown",
   "id": "d9b1c431",
   "metadata": {},
   "source": [
    "## Step 2: Set Up Your Red Team Configuration\n",
    "\n",
    "Run the setup command to start the web UI that will help you configure your red teaming project:\n",
    "\n",
    "```bash\n",
    "promptfoo redteam setup\n",
    "```\n",
    "\n",
    "Follow the on-screen instructions in the UI:\n",
    "\n",
    "1. **Provide Application Details**: Fill in details about your target application. At a minimum, fill in the **Purpose** field with a description of your application.\n",
    "   - *Tip*: Click **Load Example** if you want to try a quick example.\n",
    "\n",
    "2. **Configure the Target**: Set up Promptfoo to communicate with your target application or model. Since the scanner runs locally, ensure that your target is accessible from your machine or network.\n",
    "\n",
    "3. **Select Plugins**: Choose the adversarial generator plugins (or use the Default preset) that will generate the malicious inputs for your tests.\n",
    "\n",
    "4. **Select Attack Strategies**: Choose the attack strategies that wrap the generated inputs in specific attack patterns, helping generate sophisticated jailbreaks and injections.\n",
    "\n",
    "5. **Review and Save**: Download the generated configuration file and save it as `promptfooconfig.yaml`. Make sure to navigate to the directory where you save this file."
   ]
  },
  {
   "cell_type": "markdown",
   "id": "13731858",
   "metadata": {},
   "source": [
    "## Step 3: Run the Red Team Scan\n",
    "\n",
    "In the directory where your `promptfooconfig.yaml` file is saved, run the following command to start the scan:\n",
    "\n",
    "```bash\n",
    "promptfoo redteam run\n",
    "```\n",
    "\n",
    "This command will:\n",
    "- Generate several hundred adversarial inputs (across many harm categories) and save them in `redteam.yaml`.\n",
    "- Run the generated test cases against your target application."
   ]
  },
  {
   "cell_type": "markdown",
   "id": "c917360c",
   "metadata": {},
   "source": [
    "## Step 4: View the Results\n",
    "\n",
    "After the scan is complete, view the detailed report by running:\n",
    "\n",
    "```bash\n",
    "promptfoo redteam report\n",
    "```\n",
    "\n",
    "This report will help you dig into specific red team failure cases and analyze the results."
   ]
  },
  {
   "cell_type": "markdown",
   "id": "183b3c55",
   "metadata": {},
   "source": [
    "## Alternative: Non-GUI Initialization\n",
    "\n",
    "If you prefer not to use the web UI for setup, initialize your red team configuration with the following command:\n",
    "\n",
    "```bash\n",
    "promptfoo redteam init --no-gui\n",
    "```"
   ]
  },
  {
   "cell_type": "markdown",
   "id": "210f16c6",
   "metadata": {},
   "source": [
    "## Summary\n",
    "\n",
    "This notebook has guided you through the installation, configuration, and execution of Promptfoo red teaming. For further details or advanced configurations, please refer to the official Promptfoo documentation."
   ]
  }
 ],
 "metadata": {
  "kernelspec": {
   "display_name": "Python 3",
   "language": "python",
   "name": "python3"
  },
  "language_info": {
   "name": "python"
  }
 },
 "nbformat": 4,
 "nbformat_minor": 5
}
